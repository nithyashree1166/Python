{
  "nbformat": 4,
  "nbformat_minor": 0,
  "metadata": {
    "colab": {
      "name": "connecting to sql using python.ipynb",
      "provenance": [],
      "authorship_tag": "ABX9TyOAooTdoPObNIKghqLL+dFv",
      "include_colab_link": true
    },
    "kernelspec": {
      "name": "python3",
      "display_name": "Python 3"
    },
    "language_info": {
      "name": "python"
    }
  },
  "cells": [
    {
      "cell_type": "markdown",
      "metadata": {
        "id": "view-in-github",
        "colab_type": "text"
      },
      "source": [
        "<a href=\"https://colab.research.google.com/github/nithyashree66/Python/blob/main/connecting_to_sql_using_python.ipynb\" target=\"_parent\"><img src=\"https://colab.research.google.com/assets/colab-badge.svg\" alt=\"Open In Colab\"/></a>"
      ]
    },
    {
      "cell_type": "markdown",
      "source": [
        "SQLITE library is used to connect to the database without a server. "
      ],
      "metadata": {
        "id": "_nOVWL2LYUAX"
      }
    },
    {
      "cell_type": "code",
      "execution_count": 1,
      "metadata": {
        "id": "3EBwLuqcWSOK"
      },
      "outputs": [],
      "source": [
        "import sqlite3 as sq"
      ]
    },
    {
      "cell_type": "code",
      "source": [
        "#create a database\n",
        "database = sq.connect(\"student.db\")\n",
        "print(\"created successfully\")"
      ],
      "metadata": {
        "colab": {
          "base_uri": "https://localhost:8080/"
        },
        "id": "gMI1C7XcYhvQ",
        "outputId": "c51b54b5-05d6-45b3-b83c-d51d8f5a46b7"
      },
      "execution_count": 3,
      "outputs": [
        {
          "output_type": "stream",
          "name": "stdout",
          "text": [
            "created successfully\n"
          ]
        }
      ]
    },
    {
      "cell_type": "code",
      "source": [
        "#create table\n",
        "database.execute('''CREATE TABLE students\n",
        "                (id int,\n",
        "                name char(50),\n",
        "                age int,\n",
        "                address char(50),\n",
        "                dept char(50)\n",
        "                );''')\n",
        "\n",
        "print(\"table created successfully\")"
      ],
      "metadata": {
        "colab": {
          "base_uri": "https://localhost:8080/"
        },
        "id": "6C0jlHkMYvV9",
        "outputId": "d5871d09-6190-4f45-9072-10d9684b1d8a"
      },
      "execution_count": 7,
      "outputs": [
        {
          "output_type": "stream",
          "name": "stdout",
          "text": [
            "table created successfully\n"
          ]
        }
      ]
    },
    {
      "cell_type": "code",
      "source": [
        "#insert data into the table\n",
        "\n",
        "database.execute(\"INSERT INTO STUDENTS (id,name,age,address,dept) values (1,'pooja','20','kerala','cse')\");"
      ],
      "metadata": {
        "id": "DtyIEtxiZpWM"
      },
      "execution_count": 8,
      "outputs": []
    },
    {
      "cell_type": "code",
      "source": [
        "database.execute(\"INSERT INTO STUDENTS (id,name,age,address,dept) values (2,'nithyashree','20','chennai','cse')\");"
      ],
      "metadata": {
        "id": "COdGeQzEaB1n"
      },
      "execution_count": 9,
      "outputs": []
    },
    {
      "cell_type": "code",
      "source": [
        "database.execute(\"INSERT INTO STUDENTS (id,name,age,address,dept) values (3,'shreya','20','trichy','ice')\");"
      ],
      "metadata": {
        "id": "OLeRXcnMaByu"
      },
      "execution_count": 10,
      "outputs": []
    },
    {
      "cell_type": "code",
      "source": [
        "database.execute(\"INSERT INTO STUDENTS (id,name,age,address,dept) values (4,'avanti','20','chennai','bsw')\");"
      ],
      "metadata": {
        "id": "--H2VRPWaBuF"
      },
      "execution_count": 11,
      "outputs": []
    },
    {
      "cell_type": "code",
      "source": [
        "database.execute(\"INSERT INTO STUDENTS (id,name,age,address,dept) values (5,'joesph','40','trichy','mbbs')\");"
      ],
      "metadata": {
        "id": "kauYV_FnaBgU"
      },
      "execution_count": 12,
      "outputs": []
    },
    {
      "cell_type": "code",
      "source": [
        "database.commit()\n",
        "print(\"inserted successfully\")"
      ],
      "metadata": {
        "colab": {
          "base_uri": "https://localhost:8080/"
        },
        "id": "6WOZbze8anj7",
        "outputId": "90675ab3-10f3-4ea1-97b9-7fc0b339343f"
      },
      "execution_count": 13,
      "outputs": [
        {
          "output_type": "stream",
          "name": "stdout",
          "text": [
            "inserted successfully\n"
          ]
        }
      ]
    },
    {
      "cell_type": "code",
      "source": [
        "#selecting data from table\n",
        "data = database.execute(\"SELECT * FROM STUDENTS;\")\n",
        "for i in data:\n",
        "  print(i)"
      ],
      "metadata": {
        "colab": {
          "base_uri": "https://localhost:8080/"
        },
        "id": "KMa2DNzFa1sB",
        "outputId": "3d10a636-908d-41a7-a95d-f5b9bfbe6123"
      },
      "execution_count": 14,
      "outputs": [
        {
          "output_type": "stream",
          "name": "stdout",
          "text": [
            "(1, 'pooja', 20, 'kerala', 'cse')\n",
            "(2, 'nithyashree', 20, 'chennai', 'cse')\n",
            "(3, 'shreya', 20, 'trichy', 'ice')\n",
            "(4, 'avanti', 20, 'chennai', 'bsw')\n",
            "(5, 'joesph', 40, 'trichy', 'mbbs')\n"
          ]
        }
      ]
    },
    {
      "cell_type": "code",
      "source": [
        "#updating the data\n",
        "\n",
        "database.execute(\"UPDATE STUDENTS set dept = 'AI' where id=5\")"
      ],
      "metadata": {
        "colab": {
          "base_uri": "https://localhost:8080/"
        },
        "id": "vg3W8XR_bIHU",
        "outputId": "7ff1d4ae-3730-4e96-862b-0365be71478b"
      },
      "execution_count": 15,
      "outputs": [
        {
          "output_type": "execute_result",
          "data": {
            "text/plain": [
              "<sqlite3.Cursor at 0x7fdfa6afd9d0>"
            ]
          },
          "metadata": {},
          "execution_count": 15
        }
      ]
    },
    {
      "cell_type": "code",
      "source": [
        "data = database.execute(\"SELECT * FROM STUDENTS;\")\n",
        "for i in data:\n",
        "  print(i)"
      ],
      "metadata": {
        "colab": {
          "base_uri": "https://localhost:8080/"
        },
        "id": "t7o2ZVUJbdf8",
        "outputId": "bfe5db3e-9a00-472b-cddf-c4d3217d31bb"
      },
      "execution_count": 16,
      "outputs": [
        {
          "output_type": "stream",
          "name": "stdout",
          "text": [
            "(1, 'pooja', 20, 'kerala', 'cse')\n",
            "(2, 'nithyashree', 20, 'chennai', 'cse')\n",
            "(3, 'shreya', 20, 'trichy', 'ice')\n",
            "(4, 'avanti', 20, 'chennai', 'bsw')\n",
            "(5, 'joesph', 40, 'trichy', 'AI')\n"
          ]
        }
      ]
    },
    {
      "cell_type": "code",
      "source": [
        "#delete data\n",
        "\n",
        "database.execute(\"DELETE FROM STUDENTS where id = 5;\")"
      ],
      "metadata": {
        "colab": {
          "base_uri": "https://localhost:8080/"
        },
        "id": "lo0LqrDSbkoj",
        "outputId": "784cd2a4-a12f-4acf-cceb-52d659a19202"
      },
      "execution_count": 17,
      "outputs": [
        {
          "output_type": "execute_result",
          "data": {
            "text/plain": [
              "<sqlite3.Cursor at 0x7fdfa6af1ce0>"
            ]
          },
          "metadata": {},
          "execution_count": 17
        }
      ]
    },
    {
      "cell_type": "code",
      "source": [
        "data = database.execute(\"SELECT * FROM STUDENTS;\")\n",
        "for i in data:\n",
        "  print(i)\n",
        "\n",
        "database.commit()\n",
        "print(\"operation successful\")"
      ],
      "metadata": {
        "colab": {
          "base_uri": "https://localhost:8080/"
        },
        "id": "_ys8y6rPbvZv",
        "outputId": "fe7876ab-5caa-4608-b641-dd4714299ec8"
      },
      "execution_count": 18,
      "outputs": [
        {
          "output_type": "stream",
          "name": "stdout",
          "text": [
            "(1, 'pooja', 20, 'kerala', 'cse')\n",
            "(2, 'nithyashree', 20, 'chennai', 'cse')\n",
            "(3, 'shreya', 20, 'trichy', 'ice')\n",
            "(4, 'avanti', 20, 'chennai', 'bsw')\n",
            "operation successful\n"
          ]
        }
      ]
    }
  ]
}