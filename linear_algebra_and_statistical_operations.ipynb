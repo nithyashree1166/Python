{
  "nbformat": 4,
  "nbformat_minor": 0,
  "metadata": {
    "colab": {
      "name": "linear algebra and statistical operations.ipynb",
      "provenance": [],
      "authorship_tag": "ABX9TyM5nn+bHmIoQTe+4iSbL91D",
      "include_colab_link": true
    },
    "kernelspec": {
      "name": "python3",
      "display_name": "Python 3"
    },
    "language_info": {
      "name": "python"
    }
  },
  "cells": [
    {
      "cell_type": "markdown",
      "metadata": {
        "id": "view-in-github",
        "colab_type": "text"
      },
      "source": [
        "<a href=\"https://colab.research.google.com/github/nithyashree66/Python/blob/main/linear_algebra_and_statistical_operations.ipynb\" target=\"_parent\"><img src=\"https://colab.research.google.com/assets/colab-badge.svg\" alt=\"Open In Colab\"/></a>"
      ]
    },
    {
      "cell_type": "markdown",
      "source": [
        "# **MATH FUNCTIONS USING NUMPY LIBRARY**"
      ],
      "metadata": {
        "id": "PcEFAqEB6tsB"
      }
    },
    {
      "cell_type": "code",
      "execution_count": null,
      "metadata": {
        "id": "WA_6prqKUMDQ"
      },
      "outputs": [],
      "source": [
        "import numpy as np"
      ]
    },
    {
      "cell_type": "code",
      "source": [
        "arr1 = np.array([[1,2,3,4,5],[6,7,8,9,10]])\n",
        "arr2 = np.array([[10,9,8,7,6],[5,4,3,2,1]])"
      ],
      "metadata": {
        "id": "v-6jO18mUci4"
      },
      "execution_count": null,
      "outputs": []
    },
    {
      "cell_type": "code",
      "source": [
        "arr1"
      ],
      "metadata": {
        "colab": {
          "base_uri": "https://localhost:8080/"
        },
        "id": "jD0DDNdfUt_u",
        "outputId": "b052a50a-f279-47a0-8a50-97775f7890a0"
      },
      "execution_count": null,
      "outputs": [
        {
          "output_type": "execute_result",
          "data": {
            "text/plain": [
              "array([[ 1,  2,  3,  4,  5],\n",
              "       [ 6,  7,  8,  9, 10]])"
            ]
          },
          "metadata": {},
          "execution_count": 10
        }
      ]
    },
    {
      "cell_type": "code",
      "source": [
        "arr2"
      ],
      "metadata": {
        "colab": {
          "base_uri": "https://localhost:8080/"
        },
        "id": "KGZ2Id_-Ut9Z",
        "outputId": "8f745d3a-0c9d-40e0-a94c-2b8dc395de7c"
      },
      "execution_count": null,
      "outputs": [
        {
          "output_type": "execute_result",
          "data": {
            "text/plain": [
              "array([[10,  9,  8,  7,  6],\n",
              "       [ 5,  4,  3,  2,  1]])"
            ]
          },
          "metadata": {},
          "execution_count": 11
        }
      ]
    },
    {
      "cell_type": "markdown",
      "source": [
        "**MATRIX OPERATION**"
      ],
      "metadata": {
        "id": "YGEunKPkVHLN"
      }
    },
    {
      "cell_type": "code",
      "source": [
        "#respective elements of RxC will be added\n",
        "print(arr1+arr2)"
      ],
      "metadata": {
        "colab": {
          "base_uri": "https://localhost:8080/"
        },
        "id": "xHwki0GiVFXl",
        "outputId": "6cf798b0-b00c-4066-a70b-7a156bc4ae01"
      },
      "execution_count": null,
      "outputs": [
        {
          "output_type": "stream",
          "name": "stdout",
          "text": [
            "[[11 11 11 11 11]\n",
            " [11 11 11 11 11]]\n"
          ]
        }
      ]
    },
    {
      "cell_type": "code",
      "source": [
        "#ADDING an element with the matrix\n",
        "print(arr1+20)"
      ],
      "metadata": {
        "colab": {
          "base_uri": "https://localhost:8080/"
        },
        "id": "tlSziy1xVAOR",
        "outputId": "1bec242b-3bd0-40a5-a6a1-6fd1ecf49601"
      },
      "execution_count": null,
      "outputs": [
        {
          "output_type": "stream",
          "name": "stdout",
          "text": [
            "[[21 22 23 24 25]\n",
            " [26 27 28 29 30]]\n"
          ]
        }
      ]
    },
    {
      "cell_type": "code",
      "source": [
        "arr3 = np.array([1,2])\n",
        "print(arr1+arr3)"
      ],
      "metadata": {
        "colab": {
          "base_uri": "https://localhost:8080/",
          "height": 232
        },
        "id": "ifnkoqQKUt7F",
        "outputId": "69270758-6884-4089-d4e7-262222a2866e"
      },
      "execution_count": null,
      "outputs": [
        {
          "output_type": "error",
          "ename": "ValueError",
          "evalue": "ignored",
          "traceback": [
            "\u001b[0;31m---------------------------------------------------------------------------\u001b[0m",
            "\u001b[0;31mValueError\u001b[0m                                Traceback (most recent call last)",
            "\u001b[0;32m<ipython-input-15-3c72db796d37>\u001b[0m in \u001b[0;36m<module>\u001b[0;34m()\u001b[0m\n\u001b[1;32m      1\u001b[0m \u001b[0marr3\u001b[0m \u001b[0;34m=\u001b[0m \u001b[0mnp\u001b[0m\u001b[0;34m.\u001b[0m\u001b[0marray\u001b[0m\u001b[0;34m(\u001b[0m\u001b[0;34m[\u001b[0m\u001b[0;36m1\u001b[0m\u001b[0;34m,\u001b[0m\u001b[0;36m2\u001b[0m\u001b[0;34m]\u001b[0m\u001b[0;34m)\u001b[0m\u001b[0;34m\u001b[0m\u001b[0;34m\u001b[0m\u001b[0m\n\u001b[0;32m----> 2\u001b[0;31m \u001b[0mprint\u001b[0m\u001b[0;34m(\u001b[0m\u001b[0marr1\u001b[0m\u001b[0;34m+\u001b[0m\u001b[0marr3\u001b[0m\u001b[0;34m)\u001b[0m\u001b[0;34m\u001b[0m\u001b[0;34m\u001b[0m\u001b[0m\n\u001b[0m",
            "\u001b[0;31mValueError\u001b[0m: operands could not be broadcast together with shapes (2,5) (2,) "
          ]
        }
      ]
    },
    {
      "cell_type": "markdown",
      "source": [
        "**arr3 is one dimensional matrix. therefore its shape will have only one axis.and since it does not have 5 elements in the row, it cannot be added to arr1.**"
      ],
      "metadata": {
        "id": "nycgH5WJXIRu"
      }
    },
    {
      "cell_type": "code",
      "source": [
        "arr3 = ([1,2,3,4,5])\n",
        "print(arr1+arr3)"
      ],
      "metadata": {
        "id": "nI6aVmJUUt4x",
        "colab": {
          "base_uri": "https://localhost:8080/"
        },
        "outputId": "7e342951-c51b-4594-8ac6-1e817dff868e"
      },
      "execution_count": null,
      "outputs": [
        {
          "output_type": "stream",
          "name": "stdout",
          "text": [
            "[[ 2  4  6  8 10]\n",
            " [ 7  9 11 13 15]]\n"
          ]
        }
      ]
    },
    {
      "cell_type": "code",
      "source": [
        "#subtracting two matrices\n",
        "print(arr1-arr2)"
      ],
      "metadata": {
        "id": "K-AWuJODUt2N",
        "colab": {
          "base_uri": "https://localhost:8080/"
        },
        "outputId": "1e3c0db3-640a-44e3-9e56-17f846270fc4"
      },
      "execution_count": null,
      "outputs": [
        {
          "output_type": "stream",
          "name": "stdout",
          "text": [
            "[[-9 -7 -5 -3 -1]\n",
            " [ 1  3  5  7  9]]\n"
          ]
        }
      ]
    },
    {
      "cell_type": "code",
      "source": [
        "#subtracting a matrix with an element\n",
        "arr1-100"
      ],
      "metadata": {
        "id": "UYjN1F0qUtup",
        "colab": {
          "base_uri": "https://localhost:8080/"
        },
        "outputId": "f52a7cdd-db1f-406f-d973-535dce03796c"
      },
      "execution_count": null,
      "outputs": [
        {
          "output_type": "execute_result",
          "data": {
            "text/plain": [
              "array([[-99, -98, -97, -96, -95],\n",
              "       [-94, -93, -92, -91, -90]])"
            ]
          },
          "metadata": {},
          "execution_count": 18
        }
      ]
    },
    {
      "cell_type": "code",
      "source": [
        "#DIVISION\n",
        "print(arr1/arr2)"
      ],
      "metadata": {
        "colab": {
          "base_uri": "https://localhost:8080/"
        },
        "id": "40bpFyHB7VVl",
        "outputId": "5a81cfa1-1e4e-4edf-ff3e-19ed4c4bbc5b"
      },
      "execution_count": null,
      "outputs": [
        {
          "output_type": "stream",
          "name": "stdout",
          "text": [
            "[[ 0.1         0.22222222  0.375       0.57142857  0.83333333]\n",
            " [ 1.2         1.75        2.66666667  4.5        10.        ]]\n"
          ]
        }
      ]
    },
    {
      "cell_type": "code",
      "source": [
        "print(arr1/4)"
      ],
      "metadata": {
        "colab": {
          "base_uri": "https://localhost:8080/"
        },
        "id": "LIjj1lJd7U91",
        "outputId": "041f0ce3-7186-46ef-94b0-2df368af74ed"
      },
      "execution_count": null,
      "outputs": [
        {
          "output_type": "stream",
          "name": "stdout",
          "text": [
            "[[0.25 0.5  0.75 1.   1.25]\n",
            " [1.5  1.75 2.   2.25 2.5 ]]\n"
          ]
        }
      ]
    },
    {
      "cell_type": "code",
      "source": [
        "#EXPONENT - elements in arr1 will be raised to the power of respective indeces in arr2\n",
        "arr1**arr2"
      ],
      "metadata": {
        "colab": {
          "base_uri": "https://localhost:8080/"
        },
        "id": "nLU1FnA87U0a",
        "outputId": "b106218f-de63-4358-a0e4-b48f87eb8477"
      },
      "execution_count": null,
      "outputs": [
        {
          "output_type": "execute_result",
          "data": {
            "text/plain": [
              "array([[    1,   512,  6561, 16384, 15625],\n",
              "       [ 7776,  2401,   512,    81,    10]])"
            ]
          },
          "metadata": {},
          "execution_count": 21
        }
      ]
    },
    {
      "cell_type": "code",
      "source": [
        "print(arr1**2)"
      ],
      "metadata": {
        "colab": {
          "base_uri": "https://localhost:8080/"
        },
        "id": "cYL-ckXd71j_",
        "outputId": "8b2dadd6-d6ee-43b7-adf2-543a8ac2e251"
      },
      "execution_count": null,
      "outputs": [
        {
          "output_type": "stream",
          "name": "stdout",
          "text": [
            "[[  1   4   9  16  25]\n",
            " [ 36  49  64  81 100]]\n"
          ]
        }
      ]
    },
    {
      "cell_type": "code",
      "source": [
        "#MULTIPLICATION - CROSS PRODUCT\n",
        "arr1 * arr2"
      ],
      "metadata": {
        "colab": {
          "base_uri": "https://localhost:8080/"
        },
        "id": "3EfVyIt371b9",
        "outputId": "3724a462-c902-4886-a8bb-ed85581e2715"
      },
      "execution_count": null,
      "outputs": [
        {
          "output_type": "execute_result",
          "data": {
            "text/plain": [
              "array([[10, 18, 24, 28, 30],\n",
              "       [30, 28, 24, 18, 10]])"
            ]
          },
          "metadata": {},
          "execution_count": 23
        }
      ]
    },
    {
      "cell_type": "code",
      "source": [
        "#MULTIPLICATION - DOT PRODUCT\n",
        "a=([[1,2,3],[3,2,1]])\n",
        "b=([[1,2],[3,2],[2,7]])\n",
        "c=np.dot(a,b)\n",
        "print(c)"
      ],
      "metadata": {
        "colab": {
          "base_uri": "https://localhost:8080/"
        },
        "id": "5PAwuXj971Xu",
        "outputId": "4cec8acc-bb9e-418b-85fb-0484aed662e7"
      },
      "execution_count": null,
      "outputs": [
        {
          "output_type": "stream",
          "name": "stdout",
          "text": [
            "[[13 27]\n",
            " [11 17]]\n"
          ]
        }
      ]
    },
    {
      "cell_type": "code",
      "source": [
        "c=np.dot(b,a)\n",
        "print(c)"
      ],
      "metadata": {
        "colab": {
          "base_uri": "https://localhost:8080/"
        },
        "id": "bZcKKWT99ghS",
        "outputId": "3e176354-93f7-4efc-98df-f3d7f6466bb3"
      },
      "execution_count": null,
      "outputs": [
        {
          "output_type": "stream",
          "name": "stdout",
          "text": [
            "[[ 7  6  5]\n",
            " [ 9 10 11]\n",
            " [23 18 13]]\n"
          ]
        }
      ]
    },
    {
      "cell_type": "code",
      "source": [
        "# matmul(), dot() are just semantics\n",
        "c=np.matmul(a,b)\n",
        "print(c)"
      ],
      "metadata": {
        "colab": {
          "base_uri": "https://localhost:8080/"
        },
        "id": "JAT9gvQi9lNz",
        "outputId": "3dfe76c5-a6aa-485d-bd97-ab0c371345c6"
      },
      "execution_count": null,
      "outputs": [
        {
          "output_type": "stream",
          "name": "stdout",
          "text": [
            "[[13 27]\n",
            " [11 17]]\n"
          ]
        }
      ]
    },
    {
      "cell_type": "code",
      "source": [
        "#DETERMINANT\n",
        "det = np.array([[-4,-10],[0,5]])\n",
        "print(det)"
      ],
      "metadata": {
        "colab": {
          "base_uri": "https://localhost:8080/"
        },
        "id": "s9bR1aGt9lKb",
        "outputId": "f70d341e-620e-4710-ec17-490ac234d923"
      },
      "execution_count": null,
      "outputs": [
        {
          "output_type": "stream",
          "name": "stdout",
          "text": [
            "[[ -4 -10]\n",
            " [  0   5]]\n"
          ]
        }
      ]
    },
    {
      "cell_type": "markdown",
      "source": [
        "**difference between matix and determinant is that, determinants must have equal no.of rows and columns (square matrix) but matrices can have unequal or equal number of columns and rows**"
      ],
      "metadata": {
        "id": "C6rKKT2l-axj"
      }
    },
    {
      "cell_type": "code",
      "source": [
        "#finding the determinant of an array\n",
        "det1 =([[-4,-10,-6],[0,5,7],[-9,6,0]])\n",
        "determinant = np.linalg.det(det1)\n",
        "print(determinant)"
      ],
      "metadata": {
        "colab": {
          "base_uri": "https://localhost:8080/"
        },
        "id": "7EoUHEnt9lHM",
        "outputId": "853706ea-02a6-4072-f3ae-b5fb22412194"
      },
      "execution_count": null,
      "outputs": [
        {
          "output_type": "stream",
          "name": "stdout",
          "text": [
            "528.0\n"
          ]
        }
      ]
    },
    {
      "cell_type": "code",
      "source": [
        "a = [a1 a2 a3]\n",
        "    [b1 b2 b3]\n",
        "    [c1 c2 c3]\n",
        "\n",
        "det(a) = a1[b2 b3] - a2[b1 b3] + a3[b1 b2]\n",
        "           [c2 c3]     [c1 c3]     [c1 c2]\n",
        "\n",
        "        = a1(b2c3-b3c2) -a2(b1c3-b3c1) + a3(b1c2-b2c1)\n",
        "\n",
        "        "
      ],
      "metadata": {
        "id": "n-ZMyw42DsMN",
        "colab": {
          "base_uri": "https://localhost:8080/",
          "height": 130
        },
        "outputId": "a01dcc65-6c9a-42d2-bf11-c2253d15e2f0"
      },
      "execution_count": null,
      "outputs": [
        {
          "output_type": "error",
          "ename": "SyntaxError",
          "evalue": "ignored",
          "traceback": [
            "\u001b[0;36m  File \u001b[0;32m\"<ipython-input-29-7b562f0f2998>\"\u001b[0;36m, line \u001b[0;32m1\u001b[0m\n\u001b[0;31m    a = [a1 a2 a3]\u001b[0m\n\u001b[0m             ^\u001b[0m\n\u001b[0;31mSyntaxError\u001b[0m\u001b[0;31m:\u001b[0m invalid syntax\n"
          ]
        }
      ]
    },
    {
      "cell_type": "markdown",
      "source": [
        "**inverse of a matrix**"
      ],
      "metadata": {
        "id": "A9lEpmDDEWd2"
      }
    },
    {
      "cell_type": "code",
      "source": [
        "inverse = np.array([[1,2],[3,4]])\n",
        "print(inverse)"
      ],
      "metadata": {
        "colab": {
          "base_uri": "https://localhost:8080/"
        },
        "id": "iKr5scs1Ecgu",
        "outputId": "5c9b1bd7-23d8-4f9b-e8f4-41e2144703ae"
      },
      "execution_count": null,
      "outputs": [
        {
          "output_type": "stream",
          "name": "stdout",
          "text": [
            "[[1 2]\n",
            " [3 4]]\n"
          ]
        }
      ]
    },
    {
      "cell_type": "code",
      "source": [
        "np.linalg.inv(inverse)"
      ],
      "metadata": {
        "colab": {
          "base_uri": "https://localhost:8080/"
        },
        "id": "MUM-qE6rEoIj",
        "outputId": "a77ae3d5-7863-438e-a041-45465e66329c"
      },
      "execution_count": null,
      "outputs": [
        {
          "output_type": "execute_result",
          "data": {
            "text/plain": [
              "array([[-2. ,  1. ],\n",
              "       [ 1.5, -0.5]])"
            ]
          },
          "metadata": {},
          "execution_count": 31
        }
      ]
    },
    {
      "cell_type": "code",
      "source": [
        "#adjoint of the matrix - find the transpose matrix"
      ],
      "metadata": {
        "id": "V-Eqfif8JtwH"
      },
      "execution_count": null,
      "outputs": []
    },
    {
      "cell_type": "code",
      "source": [
        "inverse.transpose()"
      ],
      "metadata": {
        "colab": {
          "base_uri": "https://localhost:8080/"
        },
        "id": "gWgOltIRJttU",
        "outputId": "efcaaaed-323a-4a92-b611-142c8192b5fb"
      },
      "execution_count": null,
      "outputs": [
        {
          "output_type": "execute_result",
          "data": {
            "text/plain": [
              "array([[1, 3],\n",
              "       [2, 4]])"
            ]
          },
          "metadata": {},
          "execution_count": 33
        }
      ]
    },
    {
      "cell_type": "code",
      "source": [
        "#RECIPROCAL - reciprocal of every element is returned as a result.\n",
        "reci = np.array([[10.1,20.2],[30.3,40.4]])\n",
        "np.reciprocal(reci)"
      ],
      "metadata": {
        "id": "JMDC_gJNJtWr",
        "colab": {
          "base_uri": "https://localhost:8080/"
        },
        "outputId": "7a5958a3-483d-4e7a-df0a-e45f81f8f087"
      },
      "execution_count": null,
      "outputs": [
        {
          "output_type": "execute_result",
          "data": {
            "text/plain": [
              "array([[0.0990099 , 0.04950495],\n",
              "       [0.0330033 , 0.02475248]])"
            ]
          },
          "metadata": {},
          "execution_count": 34
        }
      ]
    },
    {
      "cell_type": "code",
      "source": [
        "arr = np.array([[20,-9,-40],[0,10,-1],[7,6,34]])"
      ],
      "metadata": {
        "id": "WqFtIpwCcIk1"
      },
      "execution_count": null,
      "outputs": []
    },
    {
      "cell_type": "code",
      "source": [
        "print(arr)"
      ],
      "metadata": {
        "colab": {
          "base_uri": "https://localhost:8080/"
        },
        "id": "yTGWIlc3fJ87",
        "outputId": "88704f20-df98-42ca-e6a8-3d453209caa5"
      },
      "execution_count": null,
      "outputs": [
        {
          "output_type": "stream",
          "name": "stdout",
          "text": [
            "[[ 20  -9 -40]\n",
            " [  0  10  -1]\n",
            " [  7   6  34]]\n"
          ]
        }
      ]
    },
    {
      "cell_type": "code",
      "source": [
        "# MAX()\n",
        "print(np.max(arr)) #returns the biggest element in the array"
      ],
      "metadata": {
        "colab": {
          "base_uri": "https://localhost:8080/"
        },
        "id": "0g95rGrVacqA",
        "outputId": "f609431e-13b2-4a0e-820f-3c0c36412d7c"
      },
      "execution_count": null,
      "outputs": [
        {
          "output_type": "stream",
          "name": "stdout",
          "text": [
            "34\n"
          ]
        }
      ]
    },
    {
      "cell_type": "code",
      "source": [
        "np.max(arr, axis = 0) # 0th axis means column. so find the max in each column"
      ],
      "metadata": {
        "colab": {
          "base_uri": "https://localhost:8080/"
        },
        "id": "_94Ed5AcackB",
        "outputId": "2e9eadfd-92c4-4560-ecb0-26c07d232700"
      },
      "execution_count": null,
      "outputs": [
        {
          "output_type": "execute_result",
          "data": {
            "text/plain": [
              "array([20, 10, 34])"
            ]
          },
          "metadata": {},
          "execution_count": 38
        }
      ]
    },
    {
      "cell_type": "code",
      "source": [
        "np.max(arr, axis = 1)"
      ],
      "metadata": {
        "colab": {
          "base_uri": "https://localhost:8080/"
        },
        "id": "tlKQYABsacfu",
        "outputId": "bb1e7582-3a79-4339-dd0f-11bb669e499e"
      },
      "execution_count": null,
      "outputs": [
        {
          "output_type": "execute_result",
          "data": {
            "text/plain": [
              "array([20, 10, 34])"
            ]
          },
          "metadata": {},
          "execution_count": 39
        }
      ]
    },
    {
      "cell_type": "code",
      "source": [
        "arr = np.array([[20,50,-40],[9,10,-1],[7,26,34]])\n",
        "print(arr)"
      ],
      "metadata": {
        "colab": {
          "base_uri": "https://localhost:8080/"
        },
        "id": "zrZ_EOxPfiz7",
        "outputId": "451dc39e-55bd-42f5-c8d8-323cd7b32022"
      },
      "execution_count": null,
      "outputs": [
        {
          "output_type": "stream",
          "name": "stdout",
          "text": [
            "[[ 20  50 -40]\n",
            " [  9  10  -1]\n",
            " [  7  26  34]]\n"
          ]
        }
      ]
    },
    {
      "cell_type": "code",
      "source": [
        "np.max(arr,axis =1) #max , row-wise"
      ],
      "metadata": {
        "colab": {
          "base_uri": "https://localhost:8080/"
        },
        "id": "nTjAwNsPfxRj",
        "outputId": "1126de75-cf89-4241-e394-4b4d9ff0b848"
      },
      "execution_count": null,
      "outputs": [
        {
          "output_type": "execute_result",
          "data": {
            "text/plain": [
              "array([50, 10, 34])"
            ]
          },
          "metadata": {},
          "execution_count": 41
        }
      ]
    },
    {
      "cell_type": "code",
      "source": [
        "#MIN()\n",
        "np.min(arr)"
      ],
      "metadata": {
        "colab": {
          "base_uri": "https://localhost:8080/"
        },
        "id": "rbFRMvZtfxJ8",
        "outputId": "3eb817b8-71e1-4baa-a1be-c32e0de9e15e"
      },
      "execution_count": null,
      "outputs": [
        {
          "output_type": "execute_result",
          "data": {
            "text/plain": [
              "-40"
            ]
          },
          "metadata": {},
          "execution_count": 42
        }
      ]
    },
    {
      "cell_type": "code",
      "source": [
        "np.min(arr, axis=0)"
      ],
      "metadata": {
        "colab": {
          "base_uri": "https://localhost:8080/"
        },
        "id": "atyRJPEgfxCz",
        "outputId": "0df4624d-4493-4ea3-80a3-efa49fc5e9ce"
      },
      "execution_count": null,
      "outputs": [
        {
          "output_type": "execute_result",
          "data": {
            "text/plain": [
              "array([  7,  10, -40])"
            ]
          },
          "metadata": {},
          "execution_count": 43
        }
      ]
    },
    {
      "cell_type": "code",
      "source": [
        "np.min(arr, axis =1)"
      ],
      "metadata": {
        "colab": {
          "base_uri": "https://localhost:8080/"
        },
        "id": "f-3r3vSEgFi8",
        "outputId": "d629c54c-829a-48b0-9c56-49942ced51f1"
      },
      "execution_count": null,
      "outputs": [
        {
          "output_type": "execute_result",
          "data": {
            "text/plain": [
              "array([-40,  -1,   7])"
            ]
          },
          "metadata": {},
          "execution_count": 44
        }
      ]
    },
    {
      "cell_type": "code",
      "source": [
        "np.min(arr,axis = 2)"
      ],
      "metadata": {
        "colab": {
          "base_uri": "https://localhost:8080/",
          "height": 392
        },
        "id": "vW75uL7PgKPQ",
        "outputId": "ed6cdca4-8956-4f04-e0e7-b5f43516b85e"
      },
      "execution_count": null,
      "outputs": [
        {
          "output_type": "error",
          "ename": "AxisError",
          "evalue": "ignored",
          "traceback": [
            "\u001b[0;31m---------------------------------------------------------------------------\u001b[0m",
            "\u001b[0;31mAxisError\u001b[0m                                 Traceback (most recent call last)",
            "\u001b[0;32m<ipython-input-45-04e11c51d6ca>\u001b[0m in \u001b[0;36m<module>\u001b[0;34m()\u001b[0m\n\u001b[0;32m----> 1\u001b[0;31m \u001b[0mnp\u001b[0m\u001b[0;34m.\u001b[0m\u001b[0mmin\u001b[0m\u001b[0;34m(\u001b[0m\u001b[0marr\u001b[0m\u001b[0;34m,\u001b[0m\u001b[0maxis\u001b[0m \u001b[0;34m=\u001b[0m \u001b[0;36m2\u001b[0m\u001b[0;34m)\u001b[0m\u001b[0;34m\u001b[0m\u001b[0;34m\u001b[0m\u001b[0m\n\u001b[0m",
            "\u001b[0;32m<__array_function__ internals>\u001b[0m in \u001b[0;36mamin\u001b[0;34m(*args, **kwargs)\u001b[0m\n",
            "\u001b[0;32m/usr/local/lib/python3.7/dist-packages/numpy/core/fromnumeric.py\u001b[0m in \u001b[0;36mamin\u001b[0;34m(a, axis, out, keepdims, initial, where)\u001b[0m\n\u001b[1;32m   2878\u001b[0m     \"\"\"\n\u001b[1;32m   2879\u001b[0m     return _wrapreduction(a, np.minimum, 'min', axis, None, out,\n\u001b[0;32m-> 2880\u001b[0;31m                           keepdims=keepdims, initial=initial, where=where)\n\u001b[0m\u001b[1;32m   2881\u001b[0m \u001b[0;34m\u001b[0m\u001b[0m\n\u001b[1;32m   2882\u001b[0m \u001b[0;34m\u001b[0m\u001b[0m\n",
            "\u001b[0;32m/usr/local/lib/python3.7/dist-packages/numpy/core/fromnumeric.py\u001b[0m in \u001b[0;36m_wrapreduction\u001b[0;34m(obj, ufunc, method, axis, dtype, out, **kwargs)\u001b[0m\n\u001b[1;32m     84\u001b[0m                 \u001b[0;32mreturn\u001b[0m \u001b[0mreduction\u001b[0m\u001b[0;34m(\u001b[0m\u001b[0maxis\u001b[0m\u001b[0;34m=\u001b[0m\u001b[0maxis\u001b[0m\u001b[0;34m,\u001b[0m \u001b[0mout\u001b[0m\u001b[0;34m=\u001b[0m\u001b[0mout\u001b[0m\u001b[0;34m,\u001b[0m \u001b[0;34m**\u001b[0m\u001b[0mpasskwargs\u001b[0m\u001b[0;34m)\u001b[0m\u001b[0;34m\u001b[0m\u001b[0;34m\u001b[0m\u001b[0m\n\u001b[1;32m     85\u001b[0m \u001b[0;34m\u001b[0m\u001b[0m\n\u001b[0;32m---> 86\u001b[0;31m     \u001b[0;32mreturn\u001b[0m \u001b[0mufunc\u001b[0m\u001b[0;34m.\u001b[0m\u001b[0mreduce\u001b[0m\u001b[0;34m(\u001b[0m\u001b[0mobj\u001b[0m\u001b[0;34m,\u001b[0m \u001b[0maxis\u001b[0m\u001b[0;34m,\u001b[0m \u001b[0mdtype\u001b[0m\u001b[0;34m,\u001b[0m \u001b[0mout\u001b[0m\u001b[0;34m,\u001b[0m \u001b[0;34m**\u001b[0m\u001b[0mpasskwargs\u001b[0m\u001b[0;34m)\u001b[0m\u001b[0;34m\u001b[0m\u001b[0;34m\u001b[0m\u001b[0m\n\u001b[0m\u001b[1;32m     87\u001b[0m \u001b[0;34m\u001b[0m\u001b[0m\n\u001b[1;32m     88\u001b[0m \u001b[0;34m\u001b[0m\u001b[0m\n",
            "\u001b[0;31mAxisError\u001b[0m: axis 2 is out of bounds for array of dimension 2"
          ]
        }
      ]
    },
    {
      "cell_type": "markdown",
      "source": [
        "**since arr is a 2 dimensional array, it has only two axis. so, axis= 2 points to the 3rd dimension. therefore we get error.**"
      ],
      "metadata": {
        "id": "axmOOgqfgOAd"
      }
    },
    {
      "cell_type": "code",
      "source": [
        "arr"
      ],
      "metadata": {
        "colab": {
          "base_uri": "https://localhost:8080/"
        },
        "id": "wzQotCAS1PMs",
        "outputId": "3fe3403e-79f4-44c4-b2bf-d3cf1cdf6a33"
      },
      "execution_count": null,
      "outputs": [
        {
          "output_type": "execute_result",
          "data": {
            "text/plain": [
              "array([0.56, 0.98])"
            ]
          },
          "metadata": {},
          "execution_count": 74
        }
      ]
    },
    {
      "cell_type": "code",
      "source": [
        "#sum of all the elements in an array , column-wise\n",
        "np.sum(arr) "
      ],
      "metadata": {
        "id": "dwMoVv_qgf0b",
        "colab": {
          "base_uri": "https://localhost:8080/"
        },
        "outputId": "399205cb-5811-474d-aef8-81b1a416019b"
      },
      "execution_count": null,
      "outputs": [
        {
          "output_type": "execute_result",
          "data": {
            "text/plain": [
              "115"
            ]
          },
          "metadata": {},
          "execution_count": 46
        }
      ]
    },
    {
      "cell_type": "code",
      "source": [
        "#since axis=0 is column-wise, the sum of individual columns will be returned in the form of an array\n",
        "np.sum(arr,axis = 0)"
      ],
      "metadata": {
        "colab": {
          "base_uri": "https://localhost:8080/"
        },
        "id": "C1vOOpTT1SLS",
        "outputId": "98326b44-4ce1-426a-a6a7-476cf00de4f0"
      },
      "execution_count": null,
      "outputs": [
        {
          "output_type": "execute_result",
          "data": {
            "text/plain": [
              "array([36, 86, -7])"
            ]
          },
          "metadata": {},
          "execution_count": 48
        }
      ]
    },
    {
      "cell_type": "code",
      "source": [
        "np.sum(arr,axis=1)"
      ],
      "metadata": {
        "colab": {
          "base_uri": "https://localhost:8080/"
        },
        "id": "FGTXs0S71SIv",
        "outputId": "fa035000-2e6a-4771-bd3d-642ddf29c25d"
      },
      "execution_count": null,
      "outputs": [
        {
          "output_type": "execute_result",
          "data": {
            "text/plain": [
              "array([30, 18, 67])"
            ]
          },
          "metadata": {},
          "execution_count": 49
        }
      ]
    },
    {
      "cell_type": "code",
      "source": [
        "#argmax() returns the index of the largest element in the matrix\n",
        "np.argmax(arr)"
      ],
      "metadata": {
        "colab": {
          "base_uri": "https://localhost:8080/"
        },
        "id": "_7sxexE42CkO",
        "outputId": "909a1d75-7a44-4e17-c97d-fe0f08480691"
      },
      "execution_count": null,
      "outputs": [
        {
          "output_type": "execute_result",
          "data": {
            "text/plain": [
              "1"
            ]
          },
          "metadata": {},
          "execution_count": 50
        }
      ]
    },
    {
      "cell_type": "code",
      "source": [
        "#argmin() returns the index of the smallest element in the matrix\n",
        "np.argmin(arr)"
      ],
      "metadata": {
        "colab": {
          "base_uri": "https://localhost:8080/"
        },
        "id": "HM19u6eb2ChN",
        "outputId": "a17b0dd5-b315-4476-bc02-b2e65ab5f38e"
      },
      "execution_count": null,
      "outputs": [
        {
          "output_type": "execute_result",
          "data": {
            "text/plain": [
              "2"
            ]
          },
          "metadata": {},
          "execution_count": 51
        }
      ]
    },
    {
      "cell_type": "code",
      "source": [
        "np.argmax(arr, axis =0)"
      ],
      "metadata": {
        "colab": {
          "base_uri": "https://localhost:8080/"
        },
        "id": "IHNmvK9d2Ce-",
        "outputId": "366bffda-3353-4e6c-d70e-1830663babdf"
      },
      "execution_count": null,
      "outputs": [
        {
          "output_type": "execute_result",
          "data": {
            "text/plain": [
              "array([0, 0, 2])"
            ]
          },
          "metadata": {},
          "execution_count": 52
        }
      ]
    },
    {
      "cell_type": "code",
      "source": [
        "np.argmax(arr,axis =1)"
      ],
      "metadata": {
        "colab": {
          "base_uri": "https://localhost:8080/"
        },
        "id": "SW2MDhXb2CUT",
        "outputId": "dd7a9232-5d8c-401b-858e-8f71e27a84b3"
      },
      "execution_count": null,
      "outputs": [
        {
          "output_type": "execute_result",
          "data": {
            "text/plain": [
              "array([1, 1, 2])"
            ]
          },
          "metadata": {},
          "execution_count": 53
        }
      ]
    },
    {
      "cell_type": "code",
      "source": [
        "np.argmin(arr,axis=0)"
      ],
      "metadata": {
        "colab": {
          "base_uri": "https://localhost:8080/"
        },
        "id": "tOQ-DoAo2CR9",
        "outputId": "54a26948-e908-4d9e-acd0-ee7af5df1309"
      },
      "execution_count": null,
      "outputs": [
        {
          "output_type": "execute_result",
          "data": {
            "text/plain": [
              "array([2, 1, 0])"
            ]
          },
          "metadata": {},
          "execution_count": 54
        }
      ]
    },
    {
      "cell_type": "code",
      "source": [
        "np.argmin(arr,axis =1)"
      ],
      "metadata": {
        "colab": {
          "base_uri": "https://localhost:8080/"
        },
        "id": "YrzCiAYk2CPI",
        "outputId": "43167196-4f04-4c87-d96f-7af267d4bef2"
      },
      "execution_count": null,
      "outputs": [
        {
          "output_type": "execute_result",
          "data": {
            "text/plain": [
              "array([2, 2, 0])"
            ]
          },
          "metadata": {},
          "execution_count": 55
        }
      ]
    },
    {
      "cell_type": "code",
      "source": [
        "#around() - evenly rounds off the number to its nearest number"
      ],
      "metadata": {
        "id": "X-NQIue42CNN"
      },
      "execution_count": null,
      "outputs": []
    },
    {
      "cell_type": "code",
      "source": [
        "arr=np.array([0.56,0.98])"
      ],
      "metadata": {
        "id": "chAuhkmZ7CT8"
      },
      "execution_count": null,
      "outputs": []
    },
    {
      "cell_type": "code",
      "source": [
        "np.around(arr)"
      ],
      "metadata": {
        "colab": {
          "base_uri": "https://localhost:8080/"
        },
        "id": "2klywOW-7FHM",
        "outputId": "48cde7ae-3ba8-478e-c36a-44cc83855356"
      },
      "execution_count": null,
      "outputs": [
        {
          "output_type": "execute_result",
          "data": {
            "text/plain": [
              "array([1., 1.])"
            ]
          },
          "metadata": {},
          "execution_count": 61
        }
      ]
    },
    {
      "cell_type": "code",
      "source": [
        "#example 2\n",
        "arr1 = np.array([3.501,0.98])\n",
        "print(arr1)"
      ],
      "metadata": {
        "colab": {
          "base_uri": "https://localhost:8080/"
        },
        "id": "n_8zq3dw7hxu",
        "outputId": "b2c7d563-5432-401d-abd6-7ca88a905540"
      },
      "execution_count": null,
      "outputs": [
        {
          "output_type": "stream",
          "name": "stdout",
          "text": [
            "[3.501 0.98 ]\n"
          ]
        }
      ]
    },
    {
      "cell_type": "code",
      "source": [
        "np.around(arr1)"
      ],
      "metadata": {
        "colab": {
          "base_uri": "https://localhost:8080/"
        },
        "id": "82J1v8387_C9",
        "outputId": "e91de674-48d7-4615-9b4f-b09f99e6c621"
      },
      "execution_count": null,
      "outputs": [
        {
          "output_type": "execute_result",
          "data": {
            "text/plain": [
              "array([4., 1.])"
            ]
          },
          "metadata": {},
          "execution_count": 63
        }
      ]
    },
    {
      "cell_type": "code",
      "source": [
        "#floor() - returns the (lower)floor value of a number\n",
        "np.floor(arr1)"
      ],
      "metadata": {
        "colab": {
          "base_uri": "https://localhost:8080/"
        },
        "id": "Rej15wlT8FEg",
        "outputId": "bd139054-61bc-4140-8439-043e2a14f8fd"
      },
      "execution_count": null,
      "outputs": [
        {
          "output_type": "execute_result",
          "data": {
            "text/plain": [
              "array([3., 0.])"
            ]
          },
          "metadata": {},
          "execution_count": 65
        }
      ]
    },
    {
      "cell_type": "code",
      "source": [
        "#ceil() -rounds off the value of integer to a slightly greater number\n",
        "np.ceil(arr1)"
      ],
      "metadata": {
        "colab": {
          "base_uri": "https://localhost:8080/"
        },
        "id": "cz9ik8mn8l_7",
        "outputId": "c06b8c90-3c74-484d-ef2a-ed7d673a899d"
      },
      "execution_count": null,
      "outputs": [
        {
          "output_type": "execute_result",
          "data": {
            "text/plain": [
              "array([4., 1.])"
            ]
          },
          "metadata": {},
          "execution_count": 66
        }
      ]
    },
    {
      "cell_type": "markdown",
      "source": [
        "**COPY AND VIEW\n",
        "the matrix is copied and any changes made to the duplicate matrix will not affect the original matrix and vice versa.**"
      ],
      "metadata": {
        "id": "hILZBOfF803t"
      }
    },
    {
      "cell_type": "code",
      "source": [
        "print(\"orginal matrix \",arr)\n",
        "x = arr.copy()\n",
        "print(\"copy matrix \",x)"
      ],
      "metadata": {
        "colab": {
          "base_uri": "https://localhost:8080/"
        },
        "id": "Z_aGoRvc80JO",
        "outputId": "47b84540-67f0-4c80-fbdb-7bf67b0be7ba"
      },
      "execution_count": null,
      "outputs": [
        {
          "output_type": "stream",
          "name": "stdout",
          "text": [
            "orginal matrix  [0.56 0.98]\n",
            "copy matrix  [0.56 0.98]\n"
          ]
        }
      ]
    },
    {
      "cell_type": "code",
      "source": [
        "x[0]= 78.9"
      ],
      "metadata": {
        "id": "366uc6Am9kuN"
      },
      "execution_count": null,
      "outputs": []
    },
    {
      "cell_type": "code",
      "source": [
        "print(\"copy matrix \",x)"
      ],
      "metadata": {
        "colab": {
          "base_uri": "https://localhost:8080/"
        },
        "id": "znqdZAoc9wM9",
        "outputId": "0710013e-7b71-439a-9cb8-cde73a540606"
      },
      "execution_count": null,
      "outputs": [
        {
          "output_type": "stream",
          "name": "stdout",
          "text": [
            "copy matrix  [78.9   0.98]\n"
          ]
        }
      ]
    },
    {
      "cell_type": "code",
      "source": [
        "print(arr)"
      ],
      "metadata": {
        "colab": {
          "base_uri": "https://localhost:8080/"
        },
        "id": "NzLWuYri9x90",
        "outputId": "4eb1d16c-6bcc-48e8-c73b-e688530a5416"
      },
      "execution_count": null,
      "outputs": [
        {
          "output_type": "stream",
          "name": "stdout",
          "text": [
            "[0.56 0.98]\n"
          ]
        }
      ]
    },
    {
      "cell_type": "markdown",
      "source": [
        "**it is clearly seen here that the changes made to the copy matrix does not affect the original matrix**"
      ],
      "metadata": {
        "id": "K2lp4lBj904i"
      }
    },
    {
      "cell_type": "code",
      "source": [
        "x= arr.view()\n",
        "print(\"view array: \",x)"
      ],
      "metadata": {
        "colab": {
          "base_uri": "https://localhost:8080/"
        },
        "id": "SSm6B8LO-a1k",
        "outputId": "f1d704a6-497a-456b-8ad2-542d88398366"
      },
      "execution_count": null,
      "outputs": [
        {
          "output_type": "stream",
          "name": "stdout",
          "text": [
            "view array:  [0.56 0.98]\n"
          ]
        }
      ]
    },
    {
      "cell_type": "code",
      "source": [
        "x[0]= 90.8\n",
        "print(\"changed view array: \",x)"
      ],
      "metadata": {
        "colab": {
          "base_uri": "https://localhost:8080/"
        },
        "id": "pvPOtKY_-azB",
        "outputId": "08eab09a-7d0e-4d4a-f0af-c515838188a1"
      },
      "execution_count": null,
      "outputs": [
        {
          "output_type": "stream",
          "name": "stdout",
          "text": [
            "changed view array:  [90.8   0.98]\n"
          ]
        }
      ]
    },
    {
      "cell_type": "code",
      "source": [
        "print(\"original: \",arr)\n",
        "print(\"view: \",x)"
      ],
      "metadata": {
        "colab": {
          "base_uri": "https://localhost:8080/"
        },
        "id": "NSs4N0w4-qcH",
        "outputId": "160cc63f-29f3-4ba7-80fc-5586ed6358dd"
      },
      "execution_count": null,
      "outputs": [
        {
          "output_type": "stream",
          "name": "stdout",
          "text": [
            "original:  [90.8   0.98]\n",
            "view:  [90.8   0.98]\n"
          ]
        }
      ]
    },
    {
      "cell_type": "markdown",
      "source": [
        "**the view() function creates a copy of original matrix and any changes made in the copy will affect the original matrix**"
      ],
      "metadata": {
        "id": "0C2OxVm8-0Wz"
      }
    },
    {
      "cell_type": "code",
      "source": [
        "for i in arr:\n",
        "  print(i)"
      ],
      "metadata": {
        "colab": {
          "base_uri": "https://localhost:8080/"
        },
        "id": "2zFDczIc98XM",
        "outputId": "291b26ad-585e-44ad-a536-1192e1b52a9f"
      },
      "execution_count": null,
      "outputs": [
        {
          "output_type": "stream",
          "name": "stdout",
          "text": [
            "0.56\n",
            "0.98\n"
          ]
        }
      ]
    },
    {
      "cell_type": "markdown",
      "source": [
        "**if there are n elements , then with each increase in number, the complexity increases.**"
      ],
      "metadata": {
        "id": "95FSjlTk_SnC"
      }
    },
    {
      "cell_type": "code",
      "source": [
        "arr = np.array([[20,50,-40],[9,10,-1],[7,26,34]])"
      ],
      "metadata": {
        "id": "q5Mc-hHM_ktl"
      },
      "execution_count": null,
      "outputs": []
    },
    {
      "cell_type": "code",
      "source": [
        "for i in np.nditer(arr[1])"
      ],
      "metadata": {
        "colab": {
          "base_uri": "https://localhost:8080/",
          "height": 130
        },
        "id": "ppto3dZo-_Vr",
        "outputId": "ce3bf77f-2014-4e37-f1f0-e66165a065d5"
      },
      "execution_count": null,
      "outputs": [
        {
          "output_type": "error",
          "ename": "SyntaxError",
          "evalue": "ignored",
          "traceback": [
            "\u001b[0;36m  File \u001b[0;32m\"<ipython-input-81-1974228d7a57>\"\u001b[0;36m, line \u001b[0;32m1\u001b[0m\n\u001b[0;31m    for i in np.nditer(arr[1])\u001b[0m\n\u001b[0m                              ^\u001b[0m\n\u001b[0;31mSyntaxError\u001b[0m\u001b[0;31m:\u001b[0m invalid syntax\n"
          ]
        }
      ]
    }
  ]
}