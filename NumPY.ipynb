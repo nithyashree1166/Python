{
  "nbformat": 4,
  "nbformat_minor": 0,
  "metadata": {
    "colab": {
      "provenance": [],
      "authorship_tag": "ABX9TyPLPD6icTAsMuaFU5evf6xQ",
      "include_colab_link": true
    },
    "kernelspec": {
      "name": "python3",
      "display_name": "Python 3"
    },
    "language_info": {
      "name": "python"
    }
  },
  "cells": [
    {
      "cell_type": "markdown",
      "metadata": {
        "id": "view-in-github",
        "colab_type": "text"
      },
      "source": [
        "<a href=\"https://colab.research.google.com/github/nithyashree66/Python/blob/main/NumPY.ipynb\" target=\"_parent\"><img src=\"https://colab.research.google.com/assets/colab-badge.svg\" alt=\"Open In Colab\"/></a>"
      ]
    },
    {
      "cell_type": "markdown",
      "source": [
        "**numpy abreviated as numerical python is a library of mathematical functions used in computation.<br>\n",
        "numpy is faster because it uses less memory and it has contiguous memory that stores homogeneous data unlike lists.<br>**"
      ],
      "metadata": {
        "id": "gyTFB1RPcnay"
      }
    },
    {
      "cell_type": "code",
      "execution_count": 1,
      "metadata": {
        "id": "CDgK487FchJE"
      },
      "outputs": [],
      "source": [
        "import numpy as np"
      ]
    },
    {
      "cell_type": "markdown",
      "source": [
        "**CREATE**"
      ],
      "metadata": {
        "id": "76DJn_WYl5wN"
      }
    },
    {
      "cell_type": "code",
      "source": [
        "#one dimensional array\n",
        "a = np.array([1,2,3])\n",
        "print(a)"
      ],
      "metadata": {
        "colab": {
          "base_uri": "https://localhost:8080/"
        },
        "id": "DIxaXcAFe-qO",
        "outputId": "41d593dc-c4ec-41f1-eb8f-c9b041e174d8"
      },
      "execution_count": null,
      "outputs": [
        {
          "output_type": "stream",
          "name": "stdout",
          "text": [
            "[1 2 3]\n"
          ]
        }
      ]
    },
    {
      "cell_type": "code",
      "source": [
        "#two dimensional array\n",
        "b = np.array([[9.0,8.0,7.0],[6.0,5.0,4.0]])\n",
        "print(b)"
      ],
      "metadata": {
        "colab": {
          "base_uri": "https://localhost:8080/"
        },
        "id": "0CCP5j7qfFdP",
        "outputId": "991a220d-b8ce-486d-9858-1a490a659b5c"
      },
      "execution_count": null,
      "outputs": [
        {
          "output_type": "stream",
          "name": "stdout",
          "text": [
            "[[9. 8. 7.]\n",
            " [6. 5. 4.]]\n"
          ]
        }
      ]
    },
    {
      "cell_type": "code",
      "source": [
        "#three dimensional array\n",
        "c = np.array([[[1,2,3],[4,5,6]],[[7,8,9],[9,8,7]],[[6,5,4],[3,2,1]]])\n",
        "print(c)"
      ],
      "metadata": {
        "colab": {
          "base_uri": "https://localhost:8080/"
        },
        "id": "nugc1Y4EfW76",
        "outputId": "d4879876-e5ad-4a25-8135-de894d979027"
      },
      "execution_count": null,
      "outputs": [
        {
          "output_type": "stream",
          "name": "stdout",
          "text": [
            "[[[1 2 3]\n",
            "  [4 5 6]]\n",
            "\n",
            " [[7 8 9]\n",
            "  [9 8 7]]\n",
            "\n",
            " [[6 5 4]\n",
            "  [3 2 1]]]\n"
          ]
        }
      ]
    },
    {
      "cell_type": "code",
      "source": [
        "#check number of dimensions\n",
        "print(a.ndim)\n",
        "print(b.ndim)\n",
        "print(c.ndim)"
      ],
      "metadata": {
        "colab": {
          "base_uri": "https://localhost:8080/"
        },
        "id": "UUEJPnsNgh9i",
        "outputId": "169016b6-e96b-44d2-ec0a-4266988f3358"
      },
      "execution_count": null,
      "outputs": [
        {
          "output_type": "stream",
          "name": "stdout",
          "text": [
            "1\n",
            "2\n",
            "3\n"
          ]
        }
      ]
    },
    {
      "cell_type": "code",
      "source": [
        "#check the datatype of array\n",
        "a.dtype"
      ],
      "metadata": {
        "colab": {
          "base_uri": "https://localhost:8080/"
        },
        "id": "HlwTDA1Ag_6O",
        "outputId": "b1bba7a1-2c9e-495b-9a2b-127146ba960e"
      },
      "execution_count": null,
      "outputs": [
        {
          "output_type": "execute_result",
          "data": {
            "text/plain": [
              "dtype('int64')"
            ]
          },
          "metadata": {},
          "execution_count": 6
        }
      ]
    },
    {
      "cell_type": "code",
      "source": [
        "#get the size\n",
        "c.itemsize"
      ],
      "metadata": {
        "colab": {
          "base_uri": "https://localhost:8080/"
        },
        "id": "wDLbifzDhREp",
        "outputId": "e2e24499-9db3-468e-f0a4-6b03d869de30"
      },
      "execution_count": null,
      "outputs": [
        {
          "output_type": "execute_result",
          "data": {
            "text/plain": [
              "8"
            ]
          },
          "metadata": {},
          "execution_count": 7
        }
      ]
    },
    {
      "cell_type": "code",
      "source": [
        "#to get an element , we specify the row and column number\n",
        "c[2,1]"
      ],
      "metadata": {
        "colab": {
          "base_uri": "https://localhost:8080/"
        },
        "id": "CTHDgwYIh5UJ",
        "outputId": "f6f4a5ae-d73b-4b39-8e81-abd4687b45e3"
      },
      "execution_count": null,
      "outputs": [
        {
          "output_type": "execute_result",
          "data": {
            "text/plain": [
              "array([3, 2, 1])"
            ]
          },
          "metadata": {},
          "execution_count": 8
        }
      ]
    },
    {
      "cell_type": "code",
      "source": [
        "#to get the diagonal matrix\n",
        "arr = np.diag([10,20,30,40])\n",
        "print(arr)"
      ],
      "metadata": {
        "colab": {
          "base_uri": "https://localhost:8080/"
        },
        "id": "qnzSftGBjvh5",
        "outputId": "ed866a78-80de-48ec-eac6-f87443e4b568"
      },
      "execution_count": null,
      "outputs": [
        {
          "output_type": "stream",
          "name": "stdout",
          "text": [
            "[[10  0  0  0]\n",
            " [ 0 20  0  0]\n",
            " [ 0  0 30  0]\n",
            " [ 0  0  0 40]]\n"
          ]
        }
      ]
    },
    {
      "cell_type": "code",
      "source": [
        "#creating random array within a specified range using linspace()\n",
        "arr = np.linspace(0,10,20) #creating array of numbers between 0-10 with 20 values in between.\n",
        "print(arr)"
      ],
      "metadata": {
        "colab": {
          "base_uri": "https://localhost:8080/"
        },
        "id": "_hw1xEFNkESv",
        "outputId": "69983836-c3c1-421a-e446-7b7783da5653"
      },
      "execution_count": null,
      "outputs": [
        {
          "output_type": "stream",
          "name": "stdout",
          "text": [
            "[ 0.          0.52631579  1.05263158  1.57894737  2.10526316  2.63157895\n",
            "  3.15789474  3.68421053  4.21052632  4.73684211  5.26315789  5.78947368\n",
            "  6.31578947  6.84210526  7.36842105  7.89473684  8.42105263  8.94736842\n",
            "  9.47368421 10.        ]\n"
          ]
        }
      ]
    },
    {
      "cell_type": "code",
      "source": [
        "#random values with a specified range\n",
        "arr = np.random.rand(10)\n",
        "print(arr)"
      ],
      "metadata": {
        "colab": {
          "base_uri": "https://localhost:8080/"
        },
        "id": "DV_-8Qjfk2-B",
        "outputId": "495da108-8bff-4fea-e6c5-781e8eb2ed2d"
      },
      "execution_count": null,
      "outputs": [
        {
          "output_type": "stream",
          "name": "stdout",
          "text": [
            "[0.02160482 0.42567922 0.61648668 0.34860571 0.3486839  0.72501754\n",
            " 0.30056398 0.01600905 0.47265341 0.76245199]\n"
          ]
        }
      ]
    },
    {
      "cell_type": "code",
      "source": [
        "#numbers within a specified range. (start,stop,step).\n",
        "arr = np.arange(45,98)\n",
        "print(arr)\n",
        "#the last value will not be included."
      ],
      "metadata": {
        "colab": {
          "base_uri": "https://localhost:8080/"
        },
        "id": "-RYOSdzalKEs",
        "outputId": "9fd7ee31-41d8-4740-e09d-0706c7d55a19"
      },
      "execution_count": null,
      "outputs": [
        {
          "output_type": "stream",
          "name": "stdout",
          "text": [
            "[45 46 47 48 49 50 51 52 53 54 55 56 57 58 59 60 61 62 63 64 65 66 67 68\n",
            " 69 70 71 72 73 74 75 76 77 78 79 80 81 82 83 84 85 86 87 88 89 90 91 92\n",
            " 93 94 95 96 97]\n"
          ]
        }
      ]
    },
    {
      "cell_type": "markdown",
      "source": [
        "**UPDATE**"
      ],
      "metadata": {
        "id": "GWIlLq8-l2sk"
      }
    },
    {
      "cell_type": "code",
      "source": [
        "b = np.array([[9,8,7],[6,5,4],[3,2,1]])\n",
        "print(b)"
      ],
      "metadata": {
        "colab": {
          "base_uri": "https://localhost:8080/"
        },
        "id": "9NGGeudIl8kg",
        "outputId": "a33488e5-ac29-4dd9-d871-ec364e1eaf84"
      },
      "execution_count": null,
      "outputs": [
        {
          "output_type": "stream",
          "name": "stdout",
          "text": [
            "[[9 8 7]\n",
            " [6 5 4]\n",
            " [3 2 1]]\n"
          ]
        }
      ]
    },
    {
      "cell_type": "code",
      "source": [
        "#accessing elements using index\n",
        "b[2,2]"
      ],
      "metadata": {
        "colab": {
          "base_uri": "https://localhost:8080/"
        },
        "id": "AKO8CS-KnI92",
        "outputId": "d33ff6a8-a520-42de-89cf-45302af4cc8f"
      },
      "execution_count": null,
      "outputs": [
        {
          "output_type": "execute_result",
          "data": {
            "text/plain": [
              "1"
            ]
          },
          "metadata": {},
          "execution_count": 14
        }
      ]
    },
    {
      "cell_type": "code",
      "source": [
        "#changing elements at a specified index\n",
        "b[2,2] = 50\n",
        "print(b)"
      ],
      "metadata": {
        "id": "eTk3E1t4nWvA",
        "outputId": "1ef8b0c8-bb27-4e26-fea7-92766bfc7b76",
        "colab": {
          "base_uri": "https://localhost:8080/"
        }
      },
      "execution_count": null,
      "outputs": [
        {
          "output_type": "stream",
          "name": "stdout",
          "text": [
            "[[ 9  8  7]\n",
            " [ 6  5  4]\n",
            " [ 3  2 50]]\n"
          ]
        }
      ]
    },
    {
      "cell_type": "code",
      "source": [
        "#slicing\n",
        "b[2:]"
      ],
      "metadata": {
        "colab": {
          "base_uri": "https://localhost:8080/"
        },
        "id": "fO4Lgm5ojFVI",
        "outputId": "df4e47a1-6ba5-4985-fcda-7e4a5a6decfd"
      },
      "execution_count": null,
      "outputs": [
        {
          "output_type": "execute_result",
          "data": {
            "text/plain": [
              "array([[ 3,  2, 50]])"
            ]
          },
          "metadata": {},
          "execution_count": 16
        }
      ]
    },
    {
      "cell_type": "code",
      "source": [
        "b[0,1:10]"
      ],
      "metadata": {
        "colab": {
          "base_uri": "https://localhost:8080/"
        },
        "id": "c7_nxY7Nj3pT",
        "outputId": "21c371ea-cdb5-45ff-8f4d-ffe14049bff8"
      },
      "execution_count": null,
      "outputs": [
        {
          "output_type": "execute_result",
          "data": {
            "text/plain": [
              "array([8, 7])"
            ]
          },
          "metadata": {},
          "execution_count": 17
        }
      ]
    },
    {
      "cell_type": "code",
      "source": [
        "#every element with a step of 2\n",
        "b[::2]"
      ],
      "metadata": {
        "colab": {
          "base_uri": "https://localhost:8080/"
        },
        "id": "ySdhJFxwlTMm",
        "outputId": "6da36991-4398-4641-f268-b71d9debdab6"
      },
      "execution_count": null,
      "outputs": [
        {
          "output_type": "execute_result",
          "data": {
            "text/plain": [
              "array([[ 9,  8,  7],\n",
              "       [ 3,  2, 50]])"
            ]
          },
          "metadata": {},
          "execution_count": 18
        }
      ]
    },
    {
      "cell_type": "markdown",
      "source": [
        "**random.rand(x,y) creates a RANDOM ARRAY of specified dimension with random values in it.**"
      ],
      "metadata": {
        "id": "TfP_KPELQP5E"
      }
    },
    {
      "cell_type": "code",
      "source": [
        "data1 = np.random.rand(10,3) #random.rand(10 rows, 3 columns)"
      ],
      "metadata": {
        "id": "tPHXWwl3lTHB"
      },
      "execution_count": 2,
      "outputs": []
    },
    {
      "cell_type": "code",
      "source": [
        "data1"
      ],
      "metadata": {
        "colab": {
          "base_uri": "https://localhost:8080/"
        },
        "id": "-ntT6zKkQDiq",
        "outputId": "328f8fdf-d77e-4487-a675-6a6568267e53"
      },
      "execution_count": 3,
      "outputs": [
        {
          "output_type": "execute_result",
          "data": {
            "text/plain": [
              "array([[0.57283378, 0.02024448, 0.76381467],\n",
              "       [0.47879355, 0.21451669, 0.14456568],\n",
              "       [0.0677984 , 0.71582508, 0.25695949],\n",
              "       [0.90130836, 0.46621277, 0.21040897],\n",
              "       [0.01240322, 0.30779622, 0.37048014],\n",
              "       [0.5627291 , 0.16602479, 0.72367035],\n",
              "       [0.64721344, 0.16122331, 0.99564031],\n",
              "       [0.07716572, 0.99795373, 0.80334255],\n",
              "       [0.21377439, 0.0448266 , 0.89738359],\n",
              "       [0.61331266, 0.17377175, 0.30357353]])"
            ]
          },
          "metadata": {},
          "execution_count": 3
        }
      ]
    }
  ]
}